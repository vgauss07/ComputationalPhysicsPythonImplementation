{
 "cells": [
  {
   "cell_type": "markdown",
   "source": [
    "## Taylor Series Expansion of a Function\n",
    "\n",
    "- Jeffrey Voke. 2023"
   ],
   "metadata": {
    "collapsed": false
   }
  },
  {
   "cell_type": "markdown",
   "source": [
    "The Derivative Function:\n",
    "$$\n",
    "\\\\ (f'(x) = \\lim_{h\\rightarrow 0} \\frac{f(x+h) - f(h)}{h} ) \\\\\n",
    "$$"
   ],
   "metadata": {
    "collapsed": false
   }
  },
  {
   "cell_type": "code",
   "execution_count": 19,
   "outputs": [],
   "source": [
    "import numpy as np\n",
    "import matplotlib.pyplot as plt\n",
    "\n",
    "\n",
    "def devFunction(f, x, h):\n",
    "    \"\"\"\n",
    "    :param f: Function\n",
    "    :param x: f argument\n",
    "    :param h: stepsize\n",
    "    :return: derivative of function of x\n",
    "    \"\"\"\n",
    "    return (f(x+h) - f(x)) / h"
   ],
   "metadata": {
    "collapsed": false,
    "ExecuteTime": {
     "end_time": "2023-06-13T05:55:13.580504Z",
     "start_time": "2023-06-13T05:55:13.045119Z"
    }
   }
  },
  {
   "cell_type": "code",
   "execution_count": 5,
   "outputs": [],
   "source": [
    "\"\"\"\n",
    "Create an arbitrary function which holds the\n",
    "expression to be differentiated.\n",
    "\"\"\"\n",
    "def func(x):\n",
    "    return 2*np.cos(x) ** 2 + x"
   ],
   "metadata": {
    "collapsed": false,
    "ExecuteTime": {
     "end_time": "2023-06-13T05:28:35.871768Z",
     "start_time": "2023-06-13T05:28:35.863347Z"
    }
   }
  },
  {
   "cell_type": "code",
   "execution_count": 7,
   "outputs": [
    {
     "data": {
      "text/plain": "10.95227073977573"
     },
     "execution_count": 7,
     "metadata": {},
     "output_type": "execute_result"
    }
   ],
   "source": [
    "\"\"\"\n",
    "Initialize the parameter values\n",
    "\"\"\"\n",
    "x0 = 10.5\n",
    "h = 0.3\n",
    "func(10.5)"
   ],
   "metadata": {
    "collapsed": false,
    "ExecuteTime": {
     "end_time": "2023-06-13T05:29:21.351965Z",
     "start_time": "2023-06-13T05:29:21.342779Z"
    }
   }
  },
  {
   "cell_type": "markdown",
   "source": [
    "## Test and Call the Derivative Function, devFunction on the Parameters"
   ],
   "metadata": {
    "collapsed": false
   }
  },
  {
   "cell_type": "code",
   "execution_count": 8,
   "outputs": [
    {
     "data": {
      "text/plain": "-0.25580838229950353"
     },
     "execution_count": 8,
     "metadata": {},
     "output_type": "execute_result"
    }
   ],
   "source": [
    "devFunction(func, x0, h)"
   ],
   "metadata": {
    "collapsed": false,
    "ExecuteTime": {
     "end_time": "2023-06-13T05:31:41.248545Z",
     "start_time": "2023-06-13T05:31:41.237995Z"
    }
   }
  },
  {
   "cell_type": "markdown",
   "source": [
    "Higher Derivatives:\n",
    "$$\n",
    "\\\\(f^{(n)}(x) = \\lim_{h\\rightarrow 0} \\frac{1}{h^n}\\sum_{k=0}^n(-1)^{k+n} \\, \\frac{n!}{k!(n-k)!} \\,f(x+kh))\\\\\n",
    "$$"
   ],
   "metadata": {
    "collapsed": false
   }
  },
  {
   "cell_type": "code",
   "execution_count": 13,
   "outputs": [],
   "source": [
    "def higherDerivative(f, x, h, n):\n",
    "    \"\"\"\n",
    "\n",
    "    :param f: Function\n",
    "    :param x: f argument\n",
    "    :param h: stepwise\n",
    "    :param n: nth derivative\n",
    "    :return: the nth derivative of the function of x\n",
    "    \"\"\"\n",
    "    t = 0\n",
    "    for k in range(n + 1):\n",
    "        t = t + (-1) ** (k+n) * np.math.factorial(n) / (np.math.factorial(k) * np.math.factorial(n-k)) * f(x + k*h)\n",
    "    return t / h**n"
   ],
   "metadata": {
    "collapsed": false,
    "ExecuteTime": {
     "end_time": "2023-06-13T05:39:48.905379Z",
     "start_time": "2023-06-13T05:39:48.857238Z"
    }
   }
  },
  {
   "cell_type": "code",
   "execution_count": 14,
   "outputs": [
    {
     "data": {
      "text/plain": "10.95227073977573"
     },
     "execution_count": 14,
     "metadata": {},
     "output_type": "execute_result"
    }
   ],
   "source": [
    "higherDerivative(func, x0, h, 0)"
   ],
   "metadata": {
    "collapsed": false,
    "ExecuteTime": {
     "end_time": "2023-06-13T05:39:49.772260Z",
     "start_time": "2023-06-13T05:39:49.759413Z"
    }
   }
  },
  {
   "cell_type": "markdown",
   "source": [
    "## Test Accuracy"
   ],
   "metadata": {
    "collapsed": false
   }
  },
  {
   "cell_type": "code",
   "execution_count": 16,
   "outputs": [
    {
     "data": {
      "text/plain": "0.0"
     },
     "execution_count": 16,
     "metadata": {},
     "output_type": "execute_result"
    }
   ],
   "source": [
    "higherDerivative(func, x0, h, 1) - devFunction(func, x0, h)"
   ],
   "metadata": {
    "collapsed": false,
    "ExecuteTime": {
     "end_time": "2023-06-13T05:45:05.712906Z",
     "start_time": "2023-06-13T05:45:05.704500Z"
    }
   }
  },
  {
   "cell_type": "markdown",
   "source": [
    "## Build Function for the Taylor Series Expansion"
   ],
   "metadata": {
    "collapsed": false
   }
  },
  {
   "cell_type": "code",
   "execution_count": 17,
   "outputs": [],
   "source": [
    "def taylor(f, x, x0, nmax, h):\n",
    "    \"\"\"\n",
    "\n",
    "    :param f: Function\n",
    "    :param x: argument of f\n",
    "    :param x0: argument at which the derivatives will be computed\n",
    "    :param nmax: value of n where the series will be terminated\n",
    "    :param h: stepsize\n",
    "    :return: taylor series expansion\n",
    "    \"\"\"\n",
    "    t = 0\n",
    "    for n in range(nmax+1):\n",
    "        t = t + higherDerivative(f, x0, h, n) * (x - x0)**n / np.math.factorial(n)\n",
    "    return t"
   ],
   "metadata": {
    "collapsed": false,
    "ExecuteTime": {
     "end_time": "2023-06-13T05:49:19.915987Z",
     "start_time": "2023-06-13T05:49:19.902496Z"
    }
   }
  },
  {
   "cell_type": "code",
   "execution_count": 20,
   "outputs": [
    {
     "data": {
      "text/plain": "[<matplotlib.lines.Line2D at 0x7fe4f9db2500>]"
     },
     "execution_count": 20,
     "metadata": {},
     "output_type": "execute_result"
    },
    {
     "data": {
      "text/plain": "<Figure size 640x480 with 1 Axes>",
      "image/png": "[encoded data removed]"
     },
     "metadata": {},
     "output_type": "display_data"
    }
   ],
   "source": [
    "# value initialization\n",
    "nmax=7\n",
    "h = 0.3\n",
    "plt.xlabel('x')\n",
    "plt.ylabel('y')\n",
    "plt.ylim([-2, 2])\n",
    "\n",
    "xList = np.linspace(-5, 5, 101)\n",
    "plt.scatter(xList, func(xList))\n",
    "\n",
    "plt.plot(xList, taylor(func, xList, 0, nmax, h), 'blue')\n",
    "plt.plot(xList, taylor(func, xList, 2, nmax, h), 'green')\n",
    "plt.plot(xList, taylor(func, xList, -1, nmax, h), 'orange')"
   ],
   "metadata": {
    "collapsed": false,
    "ExecuteTime": {
     "end_time": "2023-06-13T05:55:18.069013Z",
     "start_time": "2023-06-13T05:55:17.807468Z"
    }
   }
  },
  {
   "cell_type": "code",
   "execution_count": null,
   "outputs": [],
   "source": [],
   "metadata": {
    "collapsed": false
   }
  }
 ],
 "metadata": {
  "kernelspec": {
   "display_name": "Python 3",
   "language": "python",
   "name": "python3"
  },
  "language_info": {
   "codemirror_mode": {
    "name": "ipython",
    "version": 2
   },
   "file_extension": ".py",
   "mimetype": "text/x-python",
   "name": "python",
   "nbconvert_exporter": "python",
   "pygments_lexer": "ipython2",
   "version": "2.7.6"
  }
 },
 "nbformat": 4,
 "nbformat_minor": 0
}
